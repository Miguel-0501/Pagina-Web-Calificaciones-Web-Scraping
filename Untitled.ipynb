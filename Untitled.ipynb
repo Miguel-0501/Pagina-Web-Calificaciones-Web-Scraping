{
 "cells": [
  {
   "cell_type": "markdown",
   "id": "1dd17fc0-4c18-4822-ad79-a038d846caad",
   "metadata": {},
   "source": [
    "# Web Scrapping a misprofesores.com"
   ]
  },
  {
   "cell_type": "code",
   "execution_count": 2,
   "id": "f3aa9a9b-10ac-4914-8c15-5213e7dc3899",
   "metadata": {},
   "outputs": [],
   "source": [
    "from selenium import webdriver\n",
    "from selenium.webdriver.common.by import By\n",
    "from selenium.common.exceptions import NoSuchElementException \n",
    "import pandas as pd"
   ]
  },
  {
   "cell_type": "code",
   "execution_count": 3,
   "id": "ad822614-ef9b-4c74-9715-4c5d38b9e036",
   "metadata": {},
   "outputs": [],
   "source": [
    "driver = webdriver.Chrome()"
   ]
  },
  {
   "cell_type": "code",
   "execution_count": 4,
   "id": "6c897677-7b64-499e-b919-80147d005aef",
   "metadata": {},
   "outputs": [],
   "source": [
    "url = 'https://www.misprofesores.com/profesores/Gustavo-Adolfo-Alonso-Silverio_86282'\n",
    "driver.get(url)"
   ]
  },
  {
   "cell_type": "code",
   "execution_count": null,
   "id": "c3abf966-35fb-4309-8129-b8f4169059f0",
   "metadata": {},
   "outputs": [],
   "source": []
  }
 ],
 "metadata": {
  "kernelspec": {
   "display_name": "Python 3 (ipykernel)",
   "language": "python",
   "name": "python3"
  },
  "language_info": {
   "codemirror_mode": {
    "name": "ipython",
    "version": 3
   },
   "file_extension": ".py",
   "mimetype": "text/x-python",
   "name": "python",
   "nbconvert_exporter": "python",
   "pygments_lexer": "ipython3",
   "version": "3.12.4"
  }
 },
 "nbformat": 4,
 "nbformat_minor": 5
}
