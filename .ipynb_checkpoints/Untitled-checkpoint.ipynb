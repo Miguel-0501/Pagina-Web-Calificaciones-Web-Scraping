{
 "cells": [
  {
   "cell_type": "markdown",
   "id": "122a4f13-8905-47a8-a802-d399fad9fc64",
   "metadata": {},
   "source": [
    "# Web Scrapping a pagina de Calificaciones de Maestros"
   ]
  },
  {
   "cell_type": "code",
   "execution_count": null,
   "id": "424daa7c-b003-4272-a153-38145b49929e",
   "metadata": {},
   "outputs": [],
   "source": []
  }
 ],
 "metadata": {
  "kernelspec": {
   "display_name": "Python 3 (ipykernel)",
   "language": "python",
   "name": "python3"
  },
  "language_info": {
   "codemirror_mode": {
    "name": "ipython",
    "version": 3
   },
   "file_extension": ".py",
   "mimetype": "text/x-python",
   "name": "python",
   "nbconvert_exporter": "python",
   "pygments_lexer": "ipython3",
   "version": "3.12.4"
  }
 },
 "nbformat": 4,
 "nbformat_minor": 5
}
